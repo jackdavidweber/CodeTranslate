{
  "nbformat": 4,
  "nbformat_minor": 0,
  "metadata": {
    "colab": {
      "name": "MappingSnippetts.ipynb",
      "provenance": [],
      "collapsed_sections": []
    },
    "kernelspec": {
      "name": "python3",
      "display_name": "Python 3"
    }
  },
  "cells": [
    {
      "cell_type": "code",
      "metadata": {
        "id": "Zfu2qsm0fhIv",
        "colab_type": "code",
        "colab": {}
      },
      "source": [
        "python_input = \"print('hello world')\"\n",
        "python_table = {\n",
        "    \"print()\": \"console.log\",\n",
        "    \"py_expression1\": pyAST : jsAST : \"js_expression1\",\n",
        "    \"py_expression2\" : \"js_expression2\",\n",
        "    \"py_expression3\" : \"js_expression3\",\n",
        "    \"py_expression4\" : \"js_expression4\",\n",
        "    }\n",
        "\n",
        "ds = [\n",
        "      {\n",
        "          JSPretty: \"console.log()\"\n",
        "          JSAST: AST(console.log())\n",
        "          PYAst: [Expr(value=Call(func=Name(id='print')\n",
        "          PyPretty: \"print()\"\n",
        "          JavaAST: AST(\"System.out.println\")\n",
        "          JavaPretty: System.out.println\n",
        "      }\n",
        "]"
      ],
      "execution_count": null,
      "outputs": []
    },
    {
      "cell_type": "code",
      "metadata": {
        "id": "j_fjYuCh09y_",
        "colab_type": "code",
        "colab": {}
      },
      "source": [
        ""
      ],
      "execution_count": null,
      "outputs": []
    },
    {
      "cell_type": "markdown",
      "metadata": {
        "id": "-O2-0l04g-B0",
        "colab_type": "text"
      },
      "source": [
        "String Python --> Map -->  String JavaScript"
      ]
    },
    {
      "cell_type": "code",
      "metadata": {
        "id": "XDn4uSmjoMTv",
        "colab_type": "code",
        "colab": {}
      },
      "source": [
        "import difflib\n",
        "\n",
        "def basic_mapping(input_expression, hash_table):\n",
        "  all_expressions = hash_table.keys()\n",
        "  matching_expression = find_best_match_ignore_strings(input_expression, all_expressions)\n",
        "  print(matching_expression)\n",
        "  translated_matching_expression = hash_table[matching_expression]\n",
        "  return translated_matching_expression"
      ],
      "execution_count": null,
      "outputs": []
    },
    {
      "cell_type": "code",
      "metadata": {
        "id": "SEjMnSPHflK7",
        "colab_type": "code",
        "colab": {}
      },
      "source": [
        "\"\"\"\n",
        "Basic approach that simply uses the difflib library. Will be pretty easily \n",
        "confused. For example print(\"append()\") will probably return push() rather than\n",
        "console.log()\n",
        "\"\"\"\n",
        "def find_best_match_difflib(s, list_of_strings):\n",
        "  best_match = difflib.get_close_matches(s, list_of_strings, 1, 0) # 1 means only 1 match is returned. 0 means that something will always be returned even if not similar\n",
        "  return best_match[0]\n",
        "\n",
        "\n",
        "def removeCharactersBtwn(s, targetCharacter):\n",
        "  last_doublequote = s.find(targetCharacter)\n",
        "\n",
        "  while(last_doublequote != -1):\n",
        "    next_doublequote = s.find(targetCharacter, last_doublequote+1)\n",
        "    if (next_doublequote == -1):\n",
        "      return s \n",
        "\n",
        "    s = s[0:last_doublequote] + s[next_doublequote+1:]\n",
        "    last_doublequote = s.find(targetCharacter)\n",
        "  \n",
        "  return s\n",
        "\n",
        "\"\"\"\n",
        "uses difflib.get_close_matches but first tries to eliminate issues with strings\n",
        "So should be able to be smart enough to ignore append in print(\"append()\")\n",
        "\"\"\"\n",
        "def find_best_match_ignore_strings(s, list_of_strings):\n",
        "  s = removeCharactersBtwn(s, '\"')\n",
        "  s = removeCharactersBtwn(s, \"'\")\n",
        "  best_match = difflib.get_close_matches(s, list_of_strings, 1, 0) # 1 means only 1 match is returned. 0 means that something will always be returned even if not similar\n",
        "  return best_match[0]\n",
        "  \n",
        "\n",
        "\n",
        "\n",
        "\n",
        "\n"
      ],
      "execution_count": null,
      "outputs": []
    },
    {
      "cell_type": "code",
      "metadata": {
        "id": "4k46wcJmf9WM",
        "colab_type": "code",
        "colab": {
          "base_uri": "https://localhost:8080/",
          "height": 187
        },
        "outputId": "e235794a-5427-41db-b412-a9bb21b99265"
      },
      "source": [
        "basic_mapping(python_input, python_table)\n"
      ],
      "execution_count": null,
      "outputs": [
        {
          "output_type": "error",
          "ename": "NameError",
          "evalue": "ignored",
          "traceback": [
            "\u001b[0;31m---------------------------------------------------------------------------\u001b[0m",
            "\u001b[0;31mNameError\u001b[0m                                 Traceback (most recent call last)",
            "\u001b[0;32m<ipython-input-9-d40bf4a364c6>\u001b[0m in \u001b[0;36m<module>\u001b[0;34m()\u001b[0m\n\u001b[0;32m----> 1\u001b[0;31m \u001b[0mbasic_mapping\u001b[0m\u001b[0;34m(\u001b[0m\u001b[0mpython_input\u001b[0m\u001b[0;34m,\u001b[0m \u001b[0mpython_table\u001b[0m\u001b[0;34m)\u001b[0m\u001b[0;34m\u001b[0m\u001b[0;34m\u001b[0m\u001b[0m\n\u001b[0m",
            "\u001b[0;31mNameError\u001b[0m: name 'basic_mapping' is not defined"
          ]
        }
      ]
    },
    {
      "cell_type": "markdown",
      "metadata": {
        "id": "qY7_ghBu0w6H",
        "colab_type": "text"
      },
      "source": [
        "String-->AST-->Map-->String"
      ]
    },
    {
      "cell_type": "code",
      "metadata": {
        "id": "_cd12btCm3Rr",
        "colab_type": "code",
        "colab": {}
      },
      "source": [
        "import astor\n",
        "myAST = astor.code_to_ast.parse_file(\"/content/sample_data/sampleCode.py\")"
      ],
      "execution_count": null,
      "outputs": []
    },
    {
      "cell_type": "code",
      "metadata": {
        "id": "XVacCj-R0kiP",
        "colab_type": "code",
        "colab": {
          "base_uri": "https://localhost:8080/",
          "height": 34
        },
        "outputId": "5f1e1044-3026-4962-f383-9568ee0c0e63"
      },
      "source": [
        "print(myAST)"
      ],
      "execution_count": null,
      "outputs": [
        {
          "output_type": "stream",
          "text": [
            "<_ast.Module object at 0x7ff525ec34a8>\n"
          ],
          "name": "stdout"
        }
      ]
    },
    {
      "cell_type": "code",
      "metadata": {
        "id": "SeonWfhL0lcB",
        "colab_type": "code",
        "colab": {
          "base_uri": "https://localhost:8080/",
          "height": 54
        },
        "outputId": "36423c32-ac22-4f92-b772-5d6509b1a1d4"
      },
      "source": [
        "astor.dump_tree(myAST)"
      ],
      "execution_count": null,
      "outputs": [
        {
          "output_type": "execute_result",
          "data": {
            "text/plain": [
              "\"Module(body=[Expr(value=Call(func=Name(id='print'), args=[Str(s='hello world')], keywords=[]))])\""
            ]
          },
          "metadata": {
            "tags": []
          },
          "execution_count": 10
        }
      ]
    },
    {
      "cell_type": "code",
      "metadata": {
        "id": "YIu8IdUT0y8w",
        "colab_type": "code",
        "colab": {
          "base_uri": "https://localhost:8080/",
          "height": 34
        },
        "outputId": "6b79242d-053c-412b-8fa3-8c04195b0ef1"
      },
      "source": [
        "print(myAST.body)"
      ],
      "execution_count": null,
      "outputs": [
        {
          "output_type": "stream",
          "text": [
            "[<_ast.Expr object at 0x7ff525ec37f0>]\n"
          ],
          "name": "stdout"
        }
      ]
    },
    {
      "cell_type": "code",
      "metadata": {
        "id": "trhkpduH3OMp",
        "colab_type": "code",
        "colab": {}
      },
      "source": [
        ""
      ],
      "execution_count": null,
      "outputs": []
    }
  ]
}